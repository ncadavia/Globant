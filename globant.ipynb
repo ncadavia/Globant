{
 "cells": [
  {
   "cell_type": "markdown",
   "metadata": {},
   "source": [
    "#### **<center> Unsupervised Topic Modeling with Semantic Similarity for NSF Research Awards Abstracts</center>**\n",
    "**<center> Natalia Cadavid Aguilar</center>**"
   ]
  },
  {
   "cell_type": "markdown",
   "metadata": {},
   "source": [
    "#### **NSF Research Awards Abstracts**\n",
    "\n",
    "- **Introduction**\n",
    "\n",
    "This dataset contains abstracts from NSF (National Science Foundation) research awards. Each abstract is stored in a separate file, and the objective is to develop an unsupervised model that classifies abstracts into topics based on semantic similarity.\n",
    "\n",
    "- **Dataset Overview**\n",
    "\n",
    "The dataset consists of several paper abstracts, with one abstract per file.\n",
    "\n",
    "- **Task**\n",
    "\n",
    "Develop an unsupervised model to group abstracts into topics and showcase a clear pipeline of your work. While accurate results are not expected, emphasize a well-defined approach. Consider creating a Jupyter notebook (for Python users) or an Rmarkdown report (for R users) and share it on GitHub.\n"
   ]
  },
  {
   "cell_type": "markdown",
   "metadata": {},
   "source": [
    "#### **Approach Summary**\n",
    "- **Data Extraction, Exploration, and Preprocessing:**\n",
    "    - Explore the dataset to understand its structure and contents.\n",
    "    - Remove irrelevant fields.\n",
    "    - Handle missing values.\n",
    "\n",
    "- **Feature Extraction:**\n",
    "  - Utilize BERT embeddings to represent abstracts as numerical features.\n",
    "  \n",
    "- **Unsupervised Model:**\n",
    "  - Apply the unsupervised learning technique K-Means clustering to group abstracts based on semantic similarity.\n",
    "  \n",
    "- **Cluster Qualitative Analysis :**\n",
    "- Print abstracts for specific clusters, enabling further investigation and interpretation of the clustering results.\n",
    "\n",
    "The diagram below offers a step-by-step visual guide to the text clustering process, starting from parsing XML files to identifying thematic groups within the extracted abstracts:"
   ]
  },
  {
   "cell_type": "markdown",
   "metadata": {},
   "source": [
    "![image.png](data:image/png;base64,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)!"
   ]
  },
  {
   "cell_type": "code",
   "execution_count": 2,
   "metadata": {},
   "outputs": [],
   "source": [
    "# Import necessary libraries and modules\n",
    "import os\n",
    "import re\n",
    "import textwrap\n",
    "import xml.etree.ElementTree as ET\n",
    "\n",
    "import pandas as pd\n",
    "import numpy as np\n",
    "import matplotlib.pyplot as plt\n",
    "from sklearn.cluster import KMeans\n",
    "from sklearn.metrics import silhouette_score\n",
    "\n",
    "from tqdm import tqdm\n",
    "import torch\n",
    "from transformers import AutoModel, AutoTokenizer"
   ]
  },
  {
   "cell_type": "markdown",
   "metadata": {},
   "source": [
    "**<center> Data Extraction, Exploration, and Preprocessing </center>**\n",
    "\n",
    "**XML Files:** The process starts with XML files containing the abstracts.\n",
    "\n",
    "**Parse & Extract Text:** These files are parsed to extract the relevant text from the \"AbstractNarration\" element.\n",
    "\n",
    "**Extracted Text:** The extracted text is then cleaned and formatted for further processing."
   ]
  },
  {
   "cell_type": "code",
   "execution_count": 3,
   "metadata": {},
   "outputs": [],
   "source": [
    "# Specify the directory path containing XML files\n",
    "xml_files_directory = r'C:\\Users\\ncada\\Downloads\\2020'\n",
    "\n",
    "# List all files in the specified directory\n",
    "xml_files_list = os.listdir(xml_files_directory)"
   ]
  },
  {
   "cell_type": "code",
   "execution_count": 4,
   "metadata": {},
   "outputs": [
    {
     "name": "stdout",
     "output_type": "stream",
     "text": [
      "13159\n",
      "11141\n"
     ]
    }
   ],
   "source": [
    "# List to store extracted data from XML files\n",
    "xml_data_list = []\n",
    "\n",
    "# Iterate through each XML file in the provided list\n",
    "for xml_filename in xml_files_list:\n",
    "    # Build the full path to the XML file\n",
    "    xml_file_path = os.path.join(xml_files_directory, xml_filename)\n",
    "\n",
    "    # Parse the XML file and get the root element\n",
    "    xml_tree = ET.parse(xml_file_path)\n",
    "    xml_root = xml_tree.getroot()\n",
    "\n",
    "    # Find the AbstractNarration element in the XML tree\n",
    "    abstract_narration_element = xml_root.find(\".//AbstractNarration\")\n",
    "\n",
    "    # Check if AbstractNarration element exists and has non-empty text\n",
    "    if abstract_narration_element is not None and abstract_narration_element.text is not None:\n",
    "        # Access the content of the AbstractNarration element and convert to lowercase\n",
    "        abstract_narration_content = abstract_narration_element.text.lower()\n",
    "\n",
    "        # Create a dictionary with filename and abstract narration content\n",
    "        xml_filename_without_extension, _ = os.path.splitext(xml_filename)\n",
    "        xml_data = {\"filename\": xml_filename_without_extension, \"abstract\": abstract_narration_content}\n",
    "        \n",
    "        # Append the dictionary to the list\n",
    "        xml_data_list.append(xml_data)\n",
    "\n",
    "# Create a DataFrame from the list of dictionaries\n",
    "df = pd.DataFrame(xml_data_list)\n",
    "print(len(df))\n",
    "\n",
    "# Drop duplicate rows based on the 'abstract' column and reset the index\n",
    "df = df.drop_duplicates(subset='abstract')\n",
    "df = df.reset_index(drop=True)\n",
    "\n",
    "print(len(df))"
   ]
  },
  {
   "cell_type": "code",
   "execution_count": 6,
   "metadata": {},
   "outputs": [
    {
     "name": "stdout",
     "output_type": "stream",
     "text": [
      "403      this award supports participation by graduate ...\n",
      "3599     variability in the transport of heat, freshwat...\n",
      "5005     engineers need to be able to use powerful comp...\n",
      "10827    the study of families of orthogonal polynomial...\n",
      "3298     coordinated online harassment by collections o...\n",
      "3670     this award will provide support for the annual...\n",
      "5390     research and education in volcanology, geochem...\n",
      "5891     this project examines the impact of the covid-...\n",
      "5112     non-technical description:&lt;br/&gt;the soft ...\n",
      "11008    the new montana engineering education research...\n",
      "11035    the funds will provide travel support for up t...\n",
      "1001     inflammation is a characteristic feature of ma...\n",
      "3845     this major research instrumentation grant supp...\n",
      "2934     the broader impact of this small business inno...\n",
      "5459     nontechnical abstract:&lt;br/&gt;the electrica...\n",
      "Name: abstract, dtype: object\n"
     ]
    }
   ],
   "source": [
    "# Display a random sample of 15 abstracts from the 'abstract' column in the DataFrame\n",
    "print(df['abstract'].sample(15))"
   ]
  },
  {
   "cell_type": "code",
   "execution_count": 7,
   "metadata": {},
   "outputs": [],
   "source": [
    "def clean_text(input_text):\n",
    "    \"\"\"\n",
    "    Clean the input text by removing specified patterns.\n",
    "\n",
    "    Parameters:\n",
    "    - input_text (str): The text to be cleaned.\n",
    "\n",
    "    Returns:\n",
    "    - str: The cleaned text.\n",
    "    \"\"\"\n",
    "    # Define the patterns to remove\n",
    "    patterns_to_remove = [\n",
    "        r'nontechnical summary\\s*:',  # Allow for optional spaces after \"nontechnical summary\" and before \":\"\n",
    "        r'nontechnical summary',\n",
    "        r'non-technical summary',\n",
    "        r'non-technical abstract',\n",
    "        r'non-technical abstract\\s*:',\n",
    "        r'non-technical description',\n",
    "        r'non-technical description\\s*:', # Allow for optional spaces after \"nontechnical summary\" and before \":\"\n",
    "        r'non technical\\s*:',\n",
    "        r'&lt;br/&gt;',\n",
    "        r'&lt;',\n",
    "        r'&gt;'\n",
    "    ]\n",
    "\n",
    "    # Remove HTML tags first\n",
    "    cleaned_text = re.sub(r'<[^>]*>', '', input_text)\n",
    "\n",
    "    # Apply the additional patterns\n",
    "    for pattern in patterns_to_remove:\n",
    "        cleaned_text = re.sub(pattern, '', cleaned_text, flags=re.IGNORECASE)\n",
    "\n",
    "    return cleaned_text.strip()\n",
    "\n",
    "\n",
    "df['abstract'] = df['abstract'].apply(lambda x: clean_text(x))"
   ]
  },
  {
   "cell_type": "markdown",
   "metadata": {},
   "source": [
    "**<center> Feature Extraction </center>**\n",
    "\n",
    "**Embed with BERT Model:** The BERT model is used to generate numerical representations (embeddings) of the cleaned text.\n",
    "\n",
    "**Document Embeddings:** These embeddings capture the semantic meaning of the text and are used for clustering."
   ]
  },
  {
   "cell_type": "code",
   "execution_count": 8,
   "metadata": {},
   "outputs": [],
   "source": [
    "# Load the BERT model and tokenizer\n",
    "model_name = \"bert-base-uncased\"\n",
    "model = AutoModel.from_pretrained(model_name)\n",
    "tokenizer = AutoTokenizer.from_pretrained(model_name)"
   ]
  },
  {
   "cell_type": "code",
   "execution_count": 9,
   "metadata": {},
   "outputs": [],
   "source": [
    "# Function to get the document representation as a tensor\n",
    "def get_embedding(document):\n",
    "    \"\"\"\n",
    "    Get the document representation as a tensor using the BERT model.\n",
    "\n",
    "    Parameters:\n",
    "    - document (str): The input document for which to compute the embedding.\n",
    "\n",
    "    Returns:\n",
    "    torch.Tensor: The document embedding as a PyTorch tensor.\n",
    "    \"\"\"    \n",
    "    tokens = tokenizer(document, return_tensors=\"pt\")\n",
    "    with torch.no_grad():\n",
    "        outputs = model(**tokens)\n",
    "    embeddings = outputs.last_hidden_state.mean(dim=1).squeeze()\n",
    "    return embeddings"
   ]
  },
  {
   "cell_type": "code",
   "execution_count": 10,
   "metadata": {},
   "outputs": [],
   "source": [
    "# Create a new column in the DataFrame to store embeddings\n",
    "df['abstract_embedding'] = np.nan\n",
    "\n",
    "# List to store embeddings\n",
    "embedding_list = []\n",
    "\n",
    "# Function to compute embeddings for a specified range of indices\n",
    "def compute_embeddings_for_range(df, start_index, end_index, max_seq_length=512):\n",
    "    \"\"\"\n",
    "    Compute embeddings for a specified range of indices in the DataFrame.\n",
    "\n",
    "    Parameters:\n",
    "    - df: DataFrame containing the abstracts and other information.\n",
    "    - start_index: Starting index for the range (inclusive).\n",
    "    - end_index: Ending index for the range (exclusive).\n",
    "    - max_seq_length: Maximum sequence length for text truncation (default is 512).\n",
    "\n",
    "    Returns:\n",
    "    None\n",
    "\n",
    "    This function iterates over the specified index range in the DataFrame, retrieves\n",
    "    the text from the 'abstract' field, truncates it if necessary, and computes the\n",
    "    embedding using the get_embedding function. The resulting embeddings are then\n",
    "    stored in the global embedding_list.\n",
    "\n",
    "    Note:\n",
    "    - The global variable embedding_list should be defined before calling this function.\n",
    "    \"\"\"    \n",
    "    # Iterate over the specified index range\n",
    "    for index in range(start_index, end_index):\n",
    "        # Get the text from the 'abstract' field\n",
    "        abstract_text = df.at[index, 'abstract']\n",
    "\n",
    "        # Truncate the text if necessary\n",
    "        truncated_text = abstract_text[:max_seq_length]\n",
    "\n",
    "        # Get the embedding and store it in the list\n",
    "        embedding = get_embedding(truncated_text).numpy()\n",
    "        embedding_list.append(embedding)"
   ]
  },
  {
   "cell_type": "code",
   "execution_count": 11,
   "metadata": {},
   "outputs": [],
   "source": [
    "# Use the function with a specific range\n",
    "compute_embeddings_for_range(df, start_index=0, end_index=11141)"
   ]
  },
  {
   "cell_type": "code",
   "execution_count": 12,
   "metadata": {},
   "outputs": [],
   "source": [
    "# Update the 'abstract_embedding' column with the computed embeddings\n",
    "df['abstract_embedding'] = embedding_list"
   ]
  },
  {
   "cell_type": "markdown",
   "metadata": {},
   "source": [
    "**<center> Unsupervised Model </center>**\n",
    "\n",
    "**K-Means Clustering:** The K-Means algorithm groups the document embeddings into different clusters based on their similarity.\n",
    "\n",
    "**Silhouette Score & Inertia:** The elbow curve method and silhouette score are used to choose the optimal number of clusters (K)."
   ]
  },
  {
   "cell_type": "code",
   "execution_count": 13,
   "metadata": {},
   "outputs": [
    {
     "data": {
      "image/png": "[encoded data removed]",
      "text/plain": [
       "<Figure size 1200x600 with 2 Axes>"
      ]
     },
     "metadata": {},
     "output_type": "display_data"
    }
   ],
   "source": [
    "# Convert the 'abstract_embedding' column to a NumPy array\n",
    "X = np.array(df['abstract_embedding'].tolist())\n",
    "\n",
    "# List to store silhouette_score values\n",
    "silhouette_scores = []\n",
    "\n",
    "# List to store inertia (within-cluster sum of squares)\n",
    "inertia_values = []\n",
    "\n",
    "# Range of k values to be tested\n",
    "k_values = range(2, 26)\n",
    "\n",
    "# Iterate over each k value\n",
    "for k in k_values:\n",
    "    # Initialize and fit the KMeans model\n",
    "    kmeans = KMeans(n_clusters=k, n_init=15, random_state=42)\n",
    "    kmeans.fit(X)\n",
    "\n",
    "    # Calculate silhouette_score and append it to the list\n",
    "    silhouette = silhouette_score(X, kmeans.labels_)\n",
    "    silhouette_scores.append(silhouette)\n",
    "\n",
    "    # Append inertia (within-cluster sum of squares) to the list\n",
    "    inertia_values.append(kmeans.inertia_)\n",
    "\n",
    "# Plot the elbow curve\n",
    "plt.figure(figsize=(12, 6))\n",
    "\n",
    "# Plot Silhouette Score on the left subplot\n",
    "plt.subplot(1, 2, 1)\n",
    "plt.plot(k_values, silhouette_scores, marker='o')\n",
    "plt.title('Silhouette Score for Different Values of K')\n",
    "plt.xlabel('Number of Clusters (K)')\n",
    "plt.ylabel('Silhouette Score')\n",
    "\n",
    "# Plot Inertia on the right subplot\n",
    "plt.subplot(1, 2, 2)\n",
    "plt.plot(k_values, inertia_values, marker='o')\n",
    "plt.title('Elbow Method for Optimal K')\n",
    "plt.xlabel('Number of Clusters (K)')\n",
    "plt.ylabel('Inertia (Within-Cluster Sum of Squares)')\n",
    "\n",
    "# Adjust layout for better visualization\n",
    "plt.tight_layout()\n",
    "\n",
    "# Show the plot\n",
    "plt.show()"
   ]
  },
  {
   "cell_type": "markdown",
   "metadata": {},
   "source": [
    "Based on the elbow curve and silhouette score analysis, we chose 10 as the optimal number of clusters for our abstracts. This number strikes a good balance between granularity and interpretability, allowing us to identify distinct but relevant groups for further analysis"
   ]
  },
  {
   "cell_type": "code",
   "execution_count": 15,
   "metadata": {},
   "outputs": [],
   "source": [
    "# Set the number of clusters\n",
    "n_clusters = 10\n",
    "\n",
    "# Initialize and fit the KMeans model with the specified number of clusters\n",
    "kmeans = KMeans(n_clusters=n_clusters, n_init=15, random_state=42)\n",
    "\n",
    "# Predict cluster labels and assign them to the 'cluster' column in the DataFrame\n",
    "df['cluster'] = kmeans.fit_predict(X)"
   ]
  },
  {
   "cell_type": "markdown",
   "metadata": {},
   "source": [
    " **<center> Cluster Qualitative Analysis </center>**\n",
    "\n",
    "**Abstract Printing:** A function is defined to print a specified number of abstracts from a given cluster, allowing for qualitative analysis of the clusters.\n"
   ]
  },
  {
   "cell_type": "code",
   "execution_count": 16,
   "metadata": {},
   "outputs": [],
   "source": [
    "def print_abstracts_for_cluster(df, cluster_number, num_abstracts=3, max_chars=300):\n",
    "    \"\"\"\n",
    "    Print a specified number of abstracts from a given cluster in the DataFrame.\n",
    "\n",
    "    Parameters:\n",
    "    - df: DataFrame containing the abstracts and cluster information.\n",
    "    - cluster_number: The cluster number for which abstracts should be printed.\n",
    "    - num_abstracts: Number of abstracts to print (default is 3).\n",
    "    - max_chars: Maximum number of characters to print for each abstract (default is 300).\n",
    "\n",
    "    Returns:\n",
    "    None\n",
    "    \"\"\"\n",
    "    # Check if 'cluster' column exists in the DataFrame\n",
    "    if 'cluster' not in df.columns:\n",
    "        print(\"Error: 'cluster' column not found in the DataFrame.\")\n",
    "        return\n",
    "\n",
    "    # Filter the DataFrame by cluster condition\n",
    "    cluster_df = df[df['cluster'] == cluster_number]\n",
    "\n",
    "    # Counter to keep track of printed abstracts\n",
    "    printed_abstracts = 0\n",
    "\n",
    "    # Iterate over the abstracts in the filtered DataFrame\n",
    "    for index, row in cluster_df.iterrows():\n",
    "        # Truncate abstract text to a certain maximum number of characters\n",
    "        truncated_abstract = row['abstract'][:max_chars]\n",
    "\n",
    "        # Print each truncated abstract\n",
    "        print(\"\\n\".join(textwrap.wrap(truncated_abstract, width=80)))\n",
    "        print(\"\")\n",
    "\n",
    "        # Increment the counter\n",
    "        printed_abstracts += 1\n",
    "\n",
    "        # Break the loop after printing the specified number of abstracts\n",
    "        if printed_abstracts == num_abstracts:\n",
    "            break"
   ]
  },
  {
   "cell_type": "markdown",
   "metadata": {},
   "source": [
    "With the cluster labels assigned by KMeans, we can now delve deeper into the abstracts within each group. This will allow us to identify shared themes, topics, and patterns, providing valuable insights into the overall content of the data.\n",
    "\n",
    "Cluster 0 seems to align with the general topic: \"Biology and Technology in Organismal Dynamics\""
   ]
  },
  {
   "cell_type": "code",
   "execution_count": 19,
   "metadata": {},
   "outputs": [
    {
     "name": "stdout",
     "output_type": "stream",
     "text": [
      "head and heart development are closely intertwined during embryonic development\n",
      "in vertebrates. they share molecular regulatory mechanism as well as some\n",
      "progenitor cell populations. both head and heart, are made from a multitude of\n",
      "cells, which include mesodermal cells that form musculature and neu\n",
      "\n",
      "this project investigates how magnetic resonance image (mri) signals change as\n",
      "iron oxide nanoparticles interact with bioactive molecules. the understanding of\n",
      "such signal changes provides a scientific foundation to monitor drug delivery\n",
      "and release using mri, which will significantly improve the tr\n",
      "\n",
      "the goal of this project is to investigate the relationship between metal uptake\n",
      "and antibiotic resistance in plants. plants mine the soil to extract minerals\n",
      "and in so doing, may take up antibiotics produced by soil microorganisms that\n",
      "adversely affect normal plant function. how plants maintain ade\n",
      "\n"
     ]
    }
   ],
   "source": [
    "cluster_0 = print_abstracts_for_cluster(df, 0)"
   ]
  },
  {
   "cell_type": "markdown",
   "metadata": {},
   "source": [
    "Cluster 1 seems to align with the general topic: \"Equity and Inclusion\""
   ]
  },
  {
   "cell_type": "code",
   "execution_count": 20,
   "metadata": {},
   "outputs": [
    {
     "name": "stdout",
     "output_type": "stream",
     "text": [
      "this collaborative research project, involving michigan state university, the\n",
      "university of north texas and the university of michigan, will examine whether\n",
      "epistemic exclusion, a form a scholarly devaluation, may create a barrier to the\n",
      "full inclusion and participation of women and faculty of color\n",
      "\n",
      "the proposed project seeks to examine and understand individual differences\n",
      "underlying the occurrence of false memories, which is defined as remembering an\n",
      "event incorrectly or differently than how it originally occurred. the\n",
      "investigation of individual differences underlying both cognitive and neur\n",
      "\n",
      "growing evidence about the powerful effects of skillful teaching on students’\n",
      "learning creates a need for professional development that impacts teachers’\n",
      "actual practice. teaching practices have been shown to play a crucial role in\n",
      "the reproduction or disruption of injustice. this project aims to cr\n",
      "\n"
     ]
    }
   ],
   "source": [
    "cluster_1 = print_abstracts_for_cluster(df, 1)"
   ]
  },
  {
   "cell_type": "markdown",
   "metadata": {},
   "source": [
    "Cluster 2 seems to align with the general topic: \"Digital Transformation\""
   ]
  },
  {
   "cell_type": "code",
   "execution_count": 21,
   "metadata": {},
   "outputs": [
    {
     "name": "stdout",
     "output_type": "stream",
     "text": [
      "more homes and industries are adopting connected technology solutions known as\n",
      "the internet of things (iot).  as a result, the workforce is facing a growing\n",
      "skills gap. trained technicians are needed to develop, adjust, install, and\n",
      "troubleshoot iot technologies, as well as to analyze the data that\n",
      "\n",
      "this project will develop a new standards-based and industry-validated data\n",
      "analytics curriculum that integrates unmanned aerial vehicles (uavs) into an\n",
      "existing geospatial technology degree program. innovations in uav technology\n",
      "have increased the types and volume of data that can be collected for\n",
      "\n",
      "this grant will develop a novel, deeply integrated physics-based data-driven\n",
      "approach to assess and enhance the resilience of power transmission systems\n",
      "impacted by climatic extremes. the us electricity infrastructure is increasingly\n",
      "prone to climatic risks that cause wide-spread and sustained outag\n",
      "\n"
     ]
    }
   ],
   "source": [
    "cluster_2 = print_abstracts_for_cluster(df, 2)"
   ]
  },
  {
   "cell_type": "markdown",
   "metadata": {},
   "source": [
    "Cluster 3 seems to align with the general topic: \"Materials Science\""
   ]
  },
  {
   "cell_type": "code",
   "execution_count": 22,
   "metadata": {},
   "outputs": [
    {
     "name": "stdout",
     "output_type": "stream",
     "text": [
      "biomedical adhesive polymers are nonmetallic materials which possess the ability\n",
      "to join two tissue surfaces together via bonding. targeted tissues may include\n",
      "everything from hard tissues (bone, tooth, cartilage) to soft tissues (most\n",
      "other organs). the most common application of biomedical adhesiv\n",
      "\n",
      "energy storage at an affordable cost has emerged as one of the challenging\n",
      "issues for the energy sector, being critical for a wide range of applications\n",
      "ranging from electric vehicles to grid storage of renewable electricity. the\n",
      "high cost and scarcity of lithium and transition metal (cobalt) resour\n",
      "\n",
      "this award is funded jointly by the condensed-matter-and-materials-theory\n",
      "program in the division of materials research and by the hbcu-up program in the\n",
      "division of human-resource development.the research project \"excellence in\n",
      "research: processes and interactions in hybrid plasmonic systems\" invol\n",
      "\n"
     ]
    }
   ],
   "source": [
    "cluster_3 = print_abstracts_for_cluster(df, 3)"
   ]
  },
  {
   "cell_type": "markdown",
   "metadata": {},
   "source": [
    "Cluster 4 seems to align with the general topic: \"Applied Mathematics\""
   ]
  },
  {
   "cell_type": "code",
   "execution_count": 23,
   "metadata": {},
   "outputs": [
    {
     "name": "stdout",
     "output_type": "stream",
     "text": [
      "this project will use tools from analysis to investigate fundamental\n",
      "mathematical models for physical systems driven to equilibrium by surface\n",
      "tension effects. a complete mathematical understanding of these systems is\n",
      "useful in addressing biological and engineering problems of mechanical nature,\n",
      "as\n",
      "\n",
      "operator theory and matrix analysis are both fundamental areas of mathematics.\n",
      "in large part, they were originally developed to provide a theoretical basis for\n",
      "quantum mechanics and other physical phenomena. an increasing number of\n",
      "application areas have emerged as a result of breakthroughs in opera\n",
      "\n",
      "the principal investigator (pi) will investigate a series of problems in\n",
      "mathematics with applications to diverse areas of science. a good number of the\n",
      "issues the pi plans to address are a natural continuation of problems he has\n",
      "explored recently that keep progressing and diffusing through a wider\n",
      "\n"
     ]
    }
   ],
   "source": [
    "cluster_4 = print_abstracts_for_cluster(df, 4)"
   ]
  },
  {
   "cell_type": "markdown",
   "metadata": {},
   "source": [
    "Cluster 5 seems to align with the general topic: \"Emerging Technologies\""
   ]
  },
  {
   "cell_type": "code",
   "execution_count": 24,
   "metadata": {},
   "outputs": [
    {
     "name": "stdout",
     "output_type": "stream",
     "text": [
      "this project promotes the progress of science in quantum computing algorithms\n",
      "and cryptologic techniques in order to improve security of encrypted\n",
      "information, which will have national security and defense applications.\n",
      "currently, the commonly used encryption algorithms such as rsa are considered “u\n",
      "\n",
      "by 2025, driverless cars will be an integral part of daily transportation.\n",
      "understanding the reliability of self-driving cars is a crucial step to ensuring\n",
      "that the impending ubiquity of self-driving cars causes as few fatalities as\n",
      "possible. components like actuators, sensors, and computational ele\n",
      "\n",
      "this project focuses on designing control mechanisms for a networked system with\n",
      "unknown structure by making use only of non-invasive observations. by non-\n",
      "invasive observations, it is meant that what is being measured is not the system\n",
      "reaction to actively injected inputs, but rather the system beha\n",
      "\n"
     ]
    }
   ],
   "source": [
    "cluster_5 = print_abstracts_for_cluster(df, 5)"
   ]
  },
  {
   "cell_type": "markdown",
   "metadata": {},
   "source": [
    "Cluster 6 seems to align with the general topic: \"Fundamental Forces in Physics\""
   ]
  },
  {
   "cell_type": "code",
   "execution_count": 25,
   "metadata": {},
   "outputs": [
    {
     "name": "stdout",
     "output_type": "stream",
     "text": [
      "understanding the structure and properties of the atomic nucleus, which is about\n",
      "100,000 times smaller than the atom it lives inside, and the fundamental forces\n",
      "between the protons and neutrons that constitute the nucleus, has been made\n",
      "possible by quantum theory. in quantum mechanics, this informat\n",
      "\n",
      "the coulomb electrostatic interaction is one of the fundamental forces in\n",
      "nature, governing how elementary charged particles interact. for example, stars\n",
      "are essentially plasmas - that is gases of positively charged ions and\n",
      "negatively charged electrons attracting and repelling one another according\n",
      "\n",
      "understanding the close interconnection between turbulence and magnetic\n",
      "reconnection has been of increasing importance to the broader solar and space\n",
      "physics community.  turbulence is a fundamental physical process of transferring\n",
      "energy from large-scale motions to small kinetic scales, where the tu\n",
      "\n"
     ]
    }
   ],
   "source": [
    "cluster_6 = print_abstracts_for_cluster(df, 6)"
   ]
  },
  {
   "cell_type": "markdown",
   "metadata": {},
   "source": [
    "Cluster 7 seems to align with the general topic: \"Atmosphere, Environment, and Human Activities\""
   ]
  },
  {
   "cell_type": "code",
   "execution_count": 26,
   "metadata": {},
   "outputs": [
    {
     "name": "stdout",
     "output_type": "stream",
     "text": [
      "greenhouse gases such as carbon dioxide (co2) and nitrous oxide (n2o) are\n",
      "important heat-trapping gases in the atmosphere, contributing to changes in\n",
      "global climate. nitrous oxide is present at a much lower concentration but is\n",
      "about 300 times more powerful a greenhouse gas than co2. cropland soils\n",
      "\n",
      "fire plays a key role in earth's ecosystem dynamics with profound effects on\n",
      "biogeochemical processes, climate, and environmental quality beyond the\n",
      "significant threat to people and infrastructures. this year has seen the most\n",
      "forest fires in the amazon basin of brazil since 2010, providing a compel\n",
      "\n",
      "this award supports building a regional center for atmospheric studies at the\n",
      "historical howard university beltsville campus (hubc) observation site. the\n",
      "project will enhance the atmosphere observational capability in the greater\n",
      "washington-baltimore area with a suite of measurements such as wind sp\n",
      "\n"
     ]
    }
   ],
   "source": [
    "cluster_7 = print_abstracts_for_cluster(df, 7)"
   ]
  },
  {
   "cell_type": "markdown",
   "metadata": {},
   "source": [
    "Cluster 8 seems to align with the general topic: \"Devastating Diseases\""
   ]
  },
  {
   "cell_type": "code",
   "execution_count": 27,
   "metadata": {},
   "outputs": [
    {
     "name": "stdout",
     "output_type": "stream",
     "text": [
      "prevention, mitigation, and eradication of hiv has been the focus of\n",
      "governments, scientists, and public health professionals for decades. recent\n",
      "reports, such as the “ending the hiv epidemic: a plan for america” distributed\n",
      "by the us department of health and human services, have generated a renewed\n",
      "\n",
      "glioblastoma multiforme (gbm) is the deadliest form of brain tumor. patients\n",
      "typically survive only 12-15 months after their initial diagnosis. therefore,\n",
      "new treatments for gbm are urgently needed. however, finding new therapies for\n",
      "gbm has been challenging, largely due to the lack of models that a\n",
      "\n",
      "calcification of soft tissues (e.g. arteries) is a hallmark of several\n",
      "cardiovascular diseases like aortic aneurysms and atherosclerosis. calcific\n",
      "deposits lead to adverse consequences such as stiffening of arteries and\n",
      "disruption of normal blood flow, often leading to morbidity and mortality. the g\n",
      "\n"
     ]
    }
   ],
   "source": [
    "cluster_8 = print_abstracts_for_cluster(df, 8)"
   ]
  },
  {
   "cell_type": "markdown",
   "metadata": {},
   "source": [
    "Cluster 9 seems to align with the general topic: \"Social Challenges\""
   ]
  },
  {
   "cell_type": "code",
   "execution_count": 28,
   "metadata": {},
   "outputs": [
    {
     "name": "stdout",
     "output_type": "stream",
     "text": [
      "the national academy of engineering identified solving “complex social issues”\n",
      "as a grand challenge for the 21st century. this project aims to serve the\n",
      "national interest by preparing engineers to work in interdisciplinary teams that\n",
      "can address such complex challenges.   the university of notre dam\n",
      "\n",
      "this award provides three years of funding to help defray the expenses of\n",
      "participants in the semi-annual conference series \"brazos analysis seminar\"\n",
      "2020-2022, the first meeting of which will be held march 28-29, 2020 at texas\n",
      "a&amp;m university. subsequent meetings will rotate among university of\n",
      "\n",
      "research initiation awards provide support for junior and mid-career faculty at\n",
      "historically black colleges and universities who are building new research\n",
      "programs or redirecting and rebuilding existing research programs. it is\n",
      "expected that the award will (1) further the faculty member's research c\n",
      "\n"
     ]
    }
   ],
   "source": [
    "cluster_9 = print_abstracts_for_cluster(df, 9)"
   ]
  }
 ],
 "metadata": {
  "kernelspec": {
   "display_name": "myenv",
   "language": "python",
   "name": "python3"
  },
  "language_info": {
   "codemirror_mode": {
    "name": "ipython",
    "version": 3
   },
   "file_extension": ".py",
   "mimetype": "text/x-python",
   "name": "python",
   "nbconvert_exporter": "python",
   "pygments_lexer": "ipython3",
   "version": "3.9.13"
  }
 },
 "nbformat": 4,
 "nbformat_minor": 2
}
